{
 "cells": [
  {
   "cell_type": "markdown",
   "id": "e2f5dcad",
   "metadata": {},
   "source": [
    "### Q.1 Implement Binary Search"
   ]
  },
  {
   "cell_type": "code",
   "execution_count": 2,
   "id": "43e44ae7",
   "metadata": {},
   "outputs": [
    {
     "name": "stdout",
     "output_type": "stream",
     "text": [
      "Enter the elements separated by commas: 1,2,5,6,8\n",
      "Enter the element you want to search for: 5\n",
      "Element 5 is present at index 2\n"
     ]
    }
   ],
   "source": [
    "class BinarySearch:\n",
    "    def __init__(self, array):\n",
    "        self.array = array\n",
    "\n",
    "    def search(self, x):\n",
    "        low = 0\n",
    "        high = len(self.array) - 1\n",
    "\n",
    "        while low <= high:\n",
    "            mid = low + (high - low) // 2\n",
    "\n",
    "            if self.array[mid] == x:\n",
    "                return mid\n",
    "            elif self.array[mid] < x:\n",
    "                low = mid + 1\n",
    "            else:\n",
    "                high = mid - 1\n",
    "\n",
    "        return -1\n",
    "\n",
    "\n",
    "input_array = input(\"Enter the elements separated by commas: \").split(\",\")\n",
    "array = [int(item) for item in input_array]\n",
    "\n",
    "\n",
    "x = int(input(\"Enter the element you want to search for: \"))\n",
    "\n",
    "\n",
    "binary_search = BinarySearch(array)\n",
    "\n",
    "\n",
    "result = binary_search.search(x)\n",
    "\n",
    "if result != -1:\n",
    "    print(f\"Element {x} is present at index {result}\")\n",
    "else:\n",
    "    print(f\"Element {x} not found\")"
   ]
  },
  {
   "cell_type": "markdown",
   "id": "cc312c1d",
   "metadata": {},
   "source": [
    "### Q.2 Implement Merge Sort"
   ]
  },
  {
   "cell_type": "code",
   "execution_count": 3,
   "id": "cccc200d",
   "metadata": {},
   "outputs": [
    {
     "name": "stdout",
     "output_type": "stream",
     "text": [
      "Enter elements separated by commas: 1,5,7,3,4,2,1\n",
      "Sorted list: [1, 1, 2, 3, 4, 5, 7]\n"
     ]
    }
   ],
   "source": [
    "class MergeSort:\n",
    "    def __init__(self, arr):\n",
    "        self.arr = arr\n",
    "\n",
    "    def merge_sort(self):\n",
    "        if len(self.arr) > 1:\n",
    "            mid = len(self.arr) // 2\n",
    "            left_half = self.arr[:mid]\n",
    "            right_half = self.arr[mid:]\n",
    "\n",
    "            left_sorter = MergeSort(left_half)\n",
    "            right_sorter = MergeSort(right_half)\n",
    "\n",
    "            left_sorter.merge_sort()\n",
    "            right_sorter.merge_sort()\n",
    "\n",
    "            i = j = k = 0\n",
    "\n",
    "            while i < len(left_half) and j < len(right_half):\n",
    "                if left_half[i] < right_half[j]:\n",
    "                    self.arr[k] = left_half[i]\n",
    "                    i += 1\n",
    "                else:\n",
    "                    self.arr[k] = right_half[j]\n",
    "                    j += 1\n",
    "                k += 1\n",
    "\n",
    "            while i < len(left_half):\n",
    "                self.arr[k] = left_half[i]\n",
    "                i += 1\n",
    "                k += 1\n",
    "\n",
    "            while j < len(right_half):\n",
    "                self.arr[k] = right_half[j]\n",
    "                j += 1\n",
    "                k += 1\n",
    "\n",
    "\n",
    "input_list = input(\"Enter elements separated by commas: \").split(',')\n",
    "elements = [int(num) for num in input_list]\n",
    "\n",
    "merge_sorter = MergeSort(elements)\n",
    "\n",
    "\n",
    "merge_sorter.merge_sort()\n",
    "\n",
    "print(\"Sorted list:\", merge_sorter.arr)"
   ]
  },
  {
   "cell_type": "markdown",
   "id": "3bc8c98e",
   "metadata": {},
   "source": [
    "### Q.3 Implement Quick Sort"
   ]
  },
  {
   "cell_type": "code",
   "execution_count": 4,
   "id": "74d728d1",
   "metadata": {},
   "outputs": [
    {
     "name": "stdout",
     "output_type": "stream",
     "text": [
      "Enter elements separated by commas: 78,85,2,9,88,25,6\n",
      "Sorted list: [2, 6, 9, 25, 78, 85, 88]\n"
     ]
    }
   ],
   "source": [
    "class QuickSort:\n",
    "    def __init__(self, arr):\n",
    "        self.arr = arr\n",
    "\n",
    "    def partition(self, start, end):\n",
    "        pivot = self.arr[start]\n",
    "        low = start + 1\n",
    "        high = end\n",
    "\n",
    "        while True:\n",
    "            while low <= high and self.arr[high] >= pivot:\n",
    "                high = high - 1\n",
    "\n",
    "            while low <= high and self.arr[low] <= pivot:\n",
    "                low = low + 1\n",
    "\n",
    "            if low <= high:\n",
    "                self.arr[low], self.arr[high] = self.arr[high], self.arr[low]\n",
    "            else:\n",
    "                break\n",
    "\n",
    "        self.arr[start], self.arr[high] = self.arr[high], self.arr[start]\n",
    "\n",
    "        return high\n",
    "\n",
    "    def quick_sort(self, start, end):\n",
    "        if start >= end:\n",
    "            return\n",
    "\n",
    "        p = self.partition(start, end)\n",
    "        self.quick_sort(start, p - 1)\n",
    "        self.quick_sort(p + 1, end)\n",
    "\n",
    "    def sort(self):\n",
    "        self.quick_sort(0, len(self.arr) - 1)\n",
    "\n",
    "\n",
    "input_list = input(\"Enter elements separated by commas: \").split(',')\n",
    "elements = [int(num) for num in input_list]\n",
    "\n",
    "quick_sorter = QuickSort(elements)\n",
    "\n",
    "\n",
    "quick_sorter.sort()\n",
    "\n",
    "print(\"Sorted list:\", quick_sorter.arr)\n"
   ]
  },
  {
   "cell_type": "markdown",
   "id": "7ede5a95",
   "metadata": {},
   "source": [
    "### Q.4 Implement Insertion Sort"
   ]
  },
  {
   "cell_type": "code",
   "execution_count": 5,
   "id": "b8b17dde",
   "metadata": {},
   "outputs": [
    {
     "name": "stdout",
     "output_type": "stream",
     "text": [
      "Enter elements separated by commas: 4,88,95,63,75,42,21,56,33,5,1,8,9,0\n",
      "Array after sorting:\n",
      "[0, 1, 4, 5, 8, 9, 21, 33, 42, 56, 63, 75, 88, 95]\n"
     ]
    }
   ],
   "source": [
    "class InsertionSort:\n",
    "    def __init__(self, arr):\n",
    "        self.arr = arr\n",
    "\n",
    "    def sort(self):\n",
    "        for i in range(1, len(self.arr)):\n",
    "            temp = self.arr[i]\n",
    "            j = i - 1\n",
    "            while j >= 0 and temp < self.arr[j]:\n",
    "                self.arr[j + 1] = self.arr[j]\n",
    "                j -= 1\n",
    "            self.arr[j + 1] = temp\n",
    "\n",
    "\n",
    "input_list = input(\"Enter elements separated by commas: \").split(',')\n",
    "elements = [int(num) for num in input_list]\n",
    "\n",
    "insertion_sorter = InsertionSort(elements)\n",
    "\n",
    "insertion_sorter.sort()\n",
    "\n",
    "print(\"Array after sorting:\")\n",
    "print(insertion_sorter.arr)\n"
   ]
  },
  {
   "cell_type": "markdown",
   "id": "8c7f64f5",
   "metadata": {},
   "source": [
    "### Q.5 Write a program to sort list of strings (similar to that of dictionary)"
   ]
  },
  {
   "cell_type": "code",
   "execution_count": 7,
   "id": "b5046dd7",
   "metadata": {},
   "outputs": [
    {
     "name": "stdout",
     "output_type": "stream",
     "text": [
      "Enter a list of strings separated by commas: abc,klm,nmo,djf,ky\n",
      "Sorted list of string:\n",
      "abc\n",
      "djf\n",
      "klm\n",
      "ky\n",
      "nmo\n"
     ]
    }
   ],
   "source": [
    "class StringListSorter:\n",
    "    def __init__(self, string_list):\n",
    "        self.string_list = string_list\n",
    "\n",
    "    def sort_lexicographically(self):\n",
    "        self.string_list.sort()\n",
    "\n",
    "    def display_sorted_list(self):\n",
    "        for string in self.string_list:\n",
    "            print(string)\n",
    "\n",
    "input_list = input(\"Enter a list of strings separated by commas: \").split(',')\n",
    "\n",
    "sorter = StringListSorter(input_list)\n",
    "\n",
    "\n",
    "sorter.sort_lexicographically()\n",
    "\n",
    "print(\"Sorted list of string:\")\n",
    "sorter.display_sorted_list()\n"
   ]
  }
 ],
 "metadata": {
  "kernelspec": {
   "display_name": "Python 3 (ipykernel)",
   "language": "python",
   "name": "python3"
  },
  "language_info": {
   "codemirror_mode": {
    "name": "ipython",
    "version": 3
   },
   "file_extension": ".py",
   "mimetype": "text/x-python",
   "name": "python",
   "nbconvert_exporter": "python",
   "pygments_lexer": "ipython3",
   "version": "3.10.9"
  }
 },
 "nbformat": 4,
 "nbformat_minor": 5
}
